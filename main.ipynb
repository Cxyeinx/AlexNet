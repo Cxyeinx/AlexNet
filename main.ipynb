{
 "cells": [
  {
   "cell_type": "code",
   "execution_count": 7,
   "id": "western-teacher",
   "metadata": {},
   "outputs": [],
   "source": [
    "import tensorflow as tf\n",
    "from tensorflow.keras.models import Sequential\n",
    "from tensorflow.keras.layers import Dense, Flatten, Dropout, BatchNormalization, Conv2D, MaxPooling2D\n",
    "from tensorflow.nn import relu, softmax\n",
    "from tensorflow.keras.datasets import cifar10\n",
    "from tensorflow.keras.callbacks import TensorBoard"
   ]
  },
  {
   "cell_type": "code",
   "execution_count": 8,
   "id": "shared-spelling",
   "metadata": {},
   "outputs": [],
   "source": [
    "(x_train, y_train), (_, _) = cifar10.load_data()\n",
    "x_train = x_train[:10000]\n",
    "y_train = y_train[:10000]\n",
    "x_train = x_train / 255"
   ]
  },
  {
   "cell_type": "code",
   "execution_count": 9,
   "id": "serious-annex",
   "metadata": {},
   "outputs": [
    {
     "name": "stdout",
     "output_type": "stream",
     "text": [
      "x_train: (10000, 32, 32, 3)\n",
      "y_train: (10000, 1)\n"
     ]
    }
   ],
   "source": [
    "print(f\"x_train: {x_train.shape}\")\n",
    "print(f\"y_train: {y_train.shape}\")"
   ]
  },
  {
   "cell_type": "code",
   "execution_count": 10,
   "id": "joint-yield",
   "metadata": {},
   "outputs": [],
   "source": [
    "x_train = tf.image.resize(x_train, (227,227))"
   ]
  },
  {
   "cell_type": "code",
   "execution_count": 15,
   "id": "light-luxury",
   "metadata": {},
   "outputs": [],
   "source": [
    "model = Sequential()\n",
    "\n",
    "model.add(Conv2D(filters=96, kernel_size=(11,11), strides=(4,4), input_shape=(227,227,3), activation=relu))\n",
    "model.add(BatchNormalization())\n",
    "model.add(MaxPooling2D(pool_size=(3,3), strides=(2,2)))\n",
    "\n",
    "model.add(Conv2D(filters=256, kernel_size=(5,5), strides=(1,1), activation=relu))\n",
    "model.add(BatchNormalization())\n",
    "model.add(MaxPooling2D(pool_size=(3,3), strides=(2,2)))\n",
    "\n",
    "model.add(Conv2D(filters=384, kernel_size=(3,3), strides=(1,1), activation=relu))\n",
    "model.add(BatchNormalization())\n",
    "\n",
    "model.add(Conv2D(filters=384, kernel_size=(3,3), strides=(1,1), activation=relu))\n",
    "model.add(BatchNormalization())\n",
    "\n",
    "model.add(Conv2D(filters=256, kernel_size=(3,3), strides=(1,1), activation=relu))\n",
    "model.add(BatchNormalization())\n",
    "model.add(MaxPooling2D(pool_size=(3,3), strides=(2,2)))\n",
    "\n",
    "model.add(Flatten())\n",
    "\n",
    "model.add(Dense(4096, activation=relu))\n",
    "model.add(BatchNormalization())\n",
    "model.add(Dropout(0.3))\n",
    "\n",
    "model.add(Dense(4096, activation=relu))\n",
    "model.add(BatchNormalization())\n",
    "model.add(Dropout(0.3))\n",
    "\n",
    "model.add(Dense(1000, activation=relu))\n",
    "model.add(BatchNormalization())\n",
    "model.add(Dropout(0.3))\n",
    "\n",
    "model.add(Dense(10, activation=softmax))\n",
    "\n",
    "model.compile(optimizer=\"adam\",\n",
    "             loss=\"sparse_categorical_crossentropy\",\n",
    "             metrics=[\"accuracy\"])"
   ]
  },
  {
   "cell_type": "code",
   "execution_count": 16,
   "id": "french-transcription",
   "metadata": {},
   "outputs": [
    {
     "name": "stdout",
     "output_type": "stream",
     "text": [
      "Epoch 1/10\n",
      "313/313 [==============================] - 514s 2s/step - loss: 2.4201 - accuracy: 0.2488\n",
      "Epoch 2/10\n",
      "313/313 [==============================] - 502s 2s/step - loss: 1.9489 - accuracy: 0.3366\n",
      "Epoch 3/10\n",
      "313/313 [==============================] - 475s 2s/step - loss: 1.7485 - accuracy: 0.3925\n",
      "Epoch 4/10\n",
      "313/313 [==============================] - 472s 2s/step - loss: 1.5913 - accuracy: 0.4456\n",
      "Epoch 5/10\n",
      "313/313 [==============================] - 475s 2s/step - loss: 1.4763 - accuracy: 0.4875\n",
      "Epoch 6/10\n",
      "313/313 [==============================] - 472s 2s/step - loss: 1.3649 - accuracy: 0.5257\n",
      "Epoch 7/10\n",
      "313/313 [==============================] - 470s 2s/step - loss: 1.2998 - accuracy: 0.5421\n",
      "Epoch 8/10\n",
      "313/313 [==============================] - 472s 2s/step - loss: 1.2286 - accuracy: 0.5734\n",
      "Epoch 9/10\n",
      "313/313 [==============================] - 470s 2s/step - loss: 1.1280 - accuracy: 0.6127\n",
      "Epoch 10/10\n",
      "313/313 [==============================] - 472s 2s/step - loss: 1.0613 - accuracy: 0.6253\n"
     ]
    },
    {
     "data": {
      "text/plain": [
       "<tensorflow.python.keras.callbacks.History at 0x7f8ac9a90e80>"
      ]
     },
     "execution_count": 16,
     "metadata": {},
     "output_type": "execute_result"
    }
   ],
   "source": [
    "tensorboard = TensorBoard(\"logs/AlexNet\")\n",
    "model.fit(x_train, y_train, batch_size=32, epochs=10, callbacks=[tensorboard])"
   ]
  },
  {
   "cell_type": "code",
   "execution_count": 17,
   "id": "engaging-geography",
   "metadata": {},
   "outputs": [
    {
     "name": "stdout",
     "output_type": "stream",
     "text": [
      "WARNING:tensorflow:From /home/virus/anaconda3/envs/myenv/lib/python3.8/site-packages/tensorflow/python/training/tracking/tracking.py:111: Model.state_updates (from tensorflow.python.keras.engine.training) is deprecated and will be removed in a future version.\n",
      "Instructions for updating:\n",
      "This property should not be used in TensorFlow 2.0, as updates are applied automatically.\n",
      "WARNING:tensorflow:From /home/virus/anaconda3/envs/myenv/lib/python3.8/site-packages/tensorflow/python/training/tracking/tracking.py:111: Layer.updates (from tensorflow.python.keras.engine.base_layer) is deprecated and will be removed in a future version.\n",
      "Instructions for updating:\n",
      "This property should not be used in TensorFlow 2.0, as updates are applied automatically.\n",
      "INFO:tensorflow:Assets written to: model.model/assets\n"
     ]
    }
   ],
   "source": [
    "model.save(\"model.model\")"
   ]
  },
  {
   "cell_type": "code",
   "execution_count": null,
   "id": "molecular-climate",
   "metadata": {},
   "outputs": [],
   "source": []
  }
 ],
 "metadata": {
  "kernelspec": {
   "display_name": "Python 3",
   "language": "python",
   "name": "python3"
  },
  "language_info": {
   "codemirror_mode": {
    "name": "ipython",
    "version": 3
   },
   "file_extension": ".py",
   "mimetype": "text/x-python",
   "name": "python",
   "nbconvert_exporter": "python",
   "pygments_lexer": "ipython3",
   "version": "3.8.5"
  }
 },
 "nbformat": 4,
 "nbformat_minor": 5
}
